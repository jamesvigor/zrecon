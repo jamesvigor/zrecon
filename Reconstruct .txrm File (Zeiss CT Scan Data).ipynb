{
 "cells": [
  {
   "cell_type": "markdown",
   "metadata": {},
   "source": [
    "# Reconstruct .txrm Raw Data (Zeiss)"
   ]
  },
  {
   "cell_type": "markdown",
   "metadata": {},
   "source": [
    "The Zeiss xradia 410 versa produces output data of type txrm. The tomopy module can load these and then subsequently reconstruct as required, replacing the requirement for the Zeiss reconstructor on the workstation in the lab. \n",
    "\n",
    "To do this, we need the `io` submodule from the `dxchange` package, we will take `pyplot` from `matplotlib` for some visualisation, `numpy` for numerical analysis bits, and `tomopy` for the reconstruction bits."
   ]
  },
  {
   "cell_type": "code",
   "execution_count": null,
   "metadata": {},
   "outputs": [],
   "source": [
    "import dxchange as io\n",
    "import matplotlib.pyplot as plt\n",
    "import numpy as np\n",
    "import tomopy\n",
    "from tomopy.prep import normalize\n",
    "from tomopy.recon.rotation import write_center\n",
    "from tomopy.recon.rotation import find_center\n",
    "from tomopy.recon.algorithm import recon"
   ]
  },
  {
   "cell_type": "markdown",
   "metadata": {},
   "source": [
    "A couple of parameters are required here. The `slice_range` tuple contains the range of slices to load to memory in `(rotation, height, width)`. We then need to take some bits from the header to the image, which also contains the reference data and the dark current data."
   ]
  },
  {
   "cell_type": "code",
   "execution_count": null,
   "metadata": {},
   "outputs": [],
   "source": [
    "# Load the data\n",
    "data   = io.read_txrm(\"./C2_No acid.txrm\", slice_range=(1601, 1, 2000))"
   ]
  },
  {
   "cell_type": "code",
   "execution_count": null,
   "metadata": {},
   "outputs": [],
   "source": [
    "data = np.copy(tdata) # RESET DATA, remove after debugging"
   ]
  },
  {
   "cell_type": "markdown",
   "metadata": {},
   "source": [
    "Take the header information from the dataset. Also, extract the reference data, set an arbitrary dark current image (see comment), set data to the raw data element in the dataset, and extract theta values for reconstruction."
   ]
  },
  {
   "cell_type": "code",
   "execution_count": null,
   "metadata": {},
   "outputs": [],
   "source": [
    "header = data[1] # Header Values\n",
    "ref    = data[1]['reference'] # Reference image values (already DC corrected)\n",
    "arb_dark   = np.zeros_like(data[0][0]) # Dark current required for tomopy but corrections already applied on instrument.\n",
    "data   = data[0] # Data values (already DC corrected)\n",
    "theta  = header['thetas'] # Rotation position values"
   ]
  },
  {
   "cell_type": "markdown",
   "metadata": {},
   "source": [
    "Show the refrence image and counts in the reference."
   ]
  },
  {
   "cell_type": "code",
   "execution_count": null,
   "metadata": {},
   "outputs": [],
   "source": [
    "print(\"Maximum counts in reference: {}\".format(np.max(ref)))\n",
    "print(\"Minimum counts in reference: {}\".format(np.min(ref)))\n",
    "plt.imshow(ref)"
   ]
  },
  {
   "cell_type": "markdown",
   "metadata": {},
   "source": [
    "Remove outliers from the dataset. Chunk along axis two (columns; in $x$ direction), perform n-1 median filtering along the other dimensions, and take a window size of 15 pixels. The outlier value is set to be a pixel 2000 raw counts above the median value of the subset. This can also run on a CUDA GPU if available. The reference image is a two axis image, raw data image is three axis."
   ]
  },
  {
   "cell_type": "code",
   "execution_count": null,
   "metadata": {},
   "outputs": [],
   "source": [
    "#zinger_level = 2000\n",
    "#data = tomopy.remove_outlier(data, zinger_level, size=15, axis=2)\n",
    "#ref  = tomopy.remove_outlier(ref,  zinger_level, size=15, axis=1)\n",
    "\n",
    "# CUDA code, should remain commented.\n",
    "#data = tomopy.misc.corr.remove_outlier_cuda(data, zinger_level, size=15, axis=2)\n",
    "#ref  = tomopy.misc.corr.remove_outlier_cuda(ref,  zinger_level, size=15, axis=2)"
   ]
  },
  {
   "cell_type": "markdown",
   "metadata": {},
   "source": [
    "Plot the output at rotation angle of 180 deg. "
   ]
  },
  {
   "cell_type": "code",
   "execution_count": null,
   "metadata": {},
   "outputs": [],
   "source": [
    "plt.imshow(data[800])"
   ]
  },
  {
   "cell_type": "markdown",
   "metadata": {},
   "source": [
    "Normalize the dataset using the reference image `ref` and the arbitrary dark current image `arb_dark`. Run this on 4 cores and set the maximum transmission to 1.0. Then multiply the result by 100 to give a transmission percent value identical to those provided by the instrumentation then display output."
   ]
  },
  {
   "cell_type": "code",
   "execution_count": null,
   "metadata": {},
   "outputs": [],
   "source": [
    "#cdata = np.copy(data)\n",
    "data = tomopy.prep.normalize.normalize(data, ref, arb_dark, cutoff=1.0, ncore=4) * 100\n",
    "plt.imshow(data[800])\n",
    "print(\"Maximum Transmission: {}\".format(np.round(np.max(data), 3)))\n",
    "print(\"Minimum Transmission: {}\".format(np.round(np.min(data), 3)))"
   ]
  },
  {
   "cell_type": "markdown",
   "metadata": {},
   "source": [
    "Remove stripes in the tomogram using the fourier wavelet method with 6 discrete wavelet transforms, a sym16 wavelet filter, a damping parameter of 2, and padding of the sinogram..."
   ]
  },
  {
   "cell_type": "code",
   "execution_count": null,
   "metadata": {},
   "outputs": [],
   "source": [
    "data = tomopy.prep.stripe.remove_stripe_fw(data, level=6, wname='sym16', sigma=2, pad=True, ncore=4, nchunk=10)"
   ]
  },
  {
   "cell_type": "markdown",
   "metadata": {},
   "source": [
    "Calculate phase contrast data, optionally add the propagation distance to the function using the `dist` variable. This can be determined from the original instrument parameters distance sample -> detector (not source -> detector - wave front propagation only occurs after refraction in the sample)."
   ]
  },
  {
   "cell_type": "code",
   "execution_count": null,
   "metadata": {},
   "outputs": [],
   "source": [
    "rat = 0.9\n",
    "eng = 140\n",
    "dist = 0\n",
    "data = tomopy.prep.phase.retrieve_phase(data, pixel_size=header['pixel_size'], energy=eng, alpha=rat, pad=True)\n",
    "\n",
    "# Propagation distance data...\n",
    "#data = tomopy.prep.phase.retrieve_phase(data, pixel_size=header['pixel_size'], energy=eng, alpha=rat, pad=True, dist=dist)"
   ]
  },
  {
   "cell_type": "markdown",
   "metadata": {},
   "source": [
    "Find the center of rotation using artifacts present in a reconstructed image at discrete centres of rotation."
   ]
  },
  {
   "cell_type": "code",
   "execution_count": null,
   "metadata": {},
   "outputs": [],
   "source": [
    "#CoR = find_center(data, theta, mask=True, tol=1)\n",
    "CoR = write_center(data, theta, )\n",
    "print(\"Center of Rotation found at: {}\".format(CoR))"
   ]
  },
  {
   "cell_type": "markdown",
   "metadata": {},
   "source": [
    "Reconstruct the dataset using the algorithm specified. The Zeiss reconstructor probably uses the standard filtered back projection fbp algorithm, also available in tomopu are the blog algebraic reconstruction technique, and fourier grid reconstruction technique (probably quicker on a good workstation)."
   ]
  },
  {
   "cell_type": "code",
   "execution_count": null,
   "metadata": {},
   "outputs": [],
   "source": [
    "# Reconstruct using the fourier grid reconstruction algorithm...\n",
    "rcn = recon(data[:,50:55,0:2000], theta, center=CoR, algorithm='gridrec', nchunk=100, ncore=4)\n",
    "\n",
    "# Block algebraic reconstruction technique...\n",
    "#rcn = recon(data[:,50:55,0:2000], theta, center=CoR, algorithm='bart', nchunk=100, ncore=4)\n",
    "\n",
    "# Filtered back projection (probably what the Zeiss package does)...\n",
    "#rcn = recon(data[:,50:51,0:2000], theta, center=CoR, algorithm='fbp', nchunk=100, ncore=4)"
   ]
  },
  {
   "cell_type": "markdown",
   "metadata": {},
   "source": [
    "The final thing to do is to write the reconstructed data to disk. This can then be visualised by some package like fiji / imagej or something more expensive."
   ]
  }
 ],
 "metadata": {
  "kernelspec": {
   "display_name": "Python 3",
   "language": "python",
   "name": "python3"
  },
  "language_info": {
   "codemirror_mode": {
    "name": "ipython",
    "version": 3
   },
   "file_extension": ".py",
   "mimetype": "text/x-python",
   "name": "python",
   "nbconvert_exporter": "python",
   "pygments_lexer": "ipython3",
   "version": "3.7.4"
  }
 },
 "nbformat": 4,
 "nbformat_minor": 4
}
